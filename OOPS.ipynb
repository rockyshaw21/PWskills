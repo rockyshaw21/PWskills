{
 "cells": [
  {
   "cell_type": "code",
   "execution_count": 61,
   "id": "47562b2f",
   "metadata": {},
   "outputs": [],
   "source": [
    "class vehicle:\n",
    "    def __init__(self,name_of_vehicle,max_speed,average_of_vehicle):\n",
    "        self.name_of_vehicle=name_of_vehicle\n",
    "        self.__max_speed=max_speed\n",
    "        self.__average_of_vehicle=average_of_vehicle\n",
    "    def hi(self):\n",
    "        pass"
   ]
  },
  {
   "cell_type": "code",
   "execution_count": 62,
   "id": "7d3d2966",
   "metadata": {},
   "outputs": [],
   "source": [
    "class child(vehicle):\n",
    "    def seating_capacity(self,capacity):\n",
    "        self.__capacity=capacity\n",
    "        return self.name_of_vehicle,self.__capacity"
   ]
  },
  {
   "cell_type": "code",
   "execution_count": 63,
   "id": "3226ee8d",
   "metadata": {},
   "outputs": [],
   "source": [
    "c=child(\"Toyata\",\"200kmph\",40)"
   ]
  },
  {
   "cell_type": "code",
   "execution_count": 64,
   "id": "c0b1c875",
   "metadata": {},
   "outputs": [
    {
     "data": {
      "text/plain": [
       "('Toyata', 4)"
      ]
     },
     "execution_count": 64,
     "metadata": {},
     "output_type": "execute_result"
    }
   ],
   "source": [
    "c.seating_capacity(4)"
   ]
  },
  {
   "cell_type": "code",
   "execution_count": 66,
   "id": "26885418",
   "metadata": {},
   "outputs": [
    {
     "data": {
      "text/plain": [
       "'Toyata'"
      ]
     },
     "execution_count": 66,
     "metadata": {},
     "output_type": "execute_result"
    }
   ],
   "source": [
    "c.name_of_vehicle"
   ]
  },
  {
   "cell_type": "code",
   "execution_count": 83,
   "id": "5eb70c70",
   "metadata": {},
   "outputs": [],
   "source": [
    "##Multiple Inheritance is a mechanism where a child\n",
    "##class can inherit multiple parent classes at a time\n",
    "\n",
    "class class1:\n",
    "    def class1_func(self):\n",
    "        return \"Hi,I am class1\""
   ]
  },
  {
   "cell_type": "code",
   "execution_count": 84,
   "id": "b6550868",
   "metadata": {},
   "outputs": [],
   "source": [
    "class class2:\n",
    "    def class2_func(self):\n",
    "        return \"Hi, I am class2\""
   ]
  },
  {
   "cell_type": "code",
   "execution_count": 85,
   "id": "d4a43134",
   "metadata": {},
   "outputs": [],
   "source": [
    "class class3(class1,class2):\n",
    "    def class3_func(self):\n",
    "        return \"Hi, I am class3\""
   ]
  },
  {
   "cell_type": "code",
   "execution_count": 86,
   "id": "9001d5f2",
   "metadata": {},
   "outputs": [],
   "source": [
    "obj=class3()"
   ]
  },
  {
   "cell_type": "code",
   "execution_count": 88,
   "id": "1ebe5743",
   "metadata": {},
   "outputs": [
    {
     "data": {
      "text/plain": [
       "'Hi,I am class1'"
      ]
     },
     "execution_count": 88,
     "metadata": {},
     "output_type": "execute_result"
    }
   ],
   "source": [
    "obj.class1_func()"
   ]
  },
  {
   "cell_type": "code",
   "execution_count": 89,
   "id": "61fe65c4",
   "metadata": {},
   "outputs": [
    {
     "data": {
      "text/plain": [
       "'Hi, I am class2'"
      ]
     },
     "execution_count": 89,
     "metadata": {},
     "output_type": "execute_result"
    }
   ],
   "source": [
    "obj.class2_func()"
   ]
  },
  {
   "cell_type": "code",
   "execution_count": 90,
   "id": "3f30fab3",
   "metadata": {},
   "outputs": [
    {
     "data": {
      "text/plain": [
       "'Hi, I am class3'"
      ]
     },
     "execution_count": 90,
     "metadata": {},
     "output_type": "execute_result"
    }
   ],
   "source": [
    "obj.class3_func()"
   ]
  },
  {
   "cell_type": "code",
   "execution_count": 103,
   "id": "a2e500df",
   "metadata": {},
   "outputs": [],
   "source": [
    "##Getter function helps to show the Value output\n",
    "##Setter function helps to take input from the user and to set the value in the inside variable."
   ]
  },
  {
   "cell_type": "code",
   "execution_count": 104,
   "id": "7f827829",
   "metadata": {},
   "outputs": [],
   "source": [
    "class human:\n",
    "    def __init__ (self):\n",
    "        self.age=0\n",
    "        \n",
    "    def set_age(self,age):\n",
    "        self.age=age\n",
    "        \n",
    "    def get_age(self):\n",
    "        return self.age"
   ]
  },
  {
   "cell_type": "code",
   "execution_count": 105,
   "id": "6c5d9ada",
   "metadata": {},
   "outputs": [],
   "source": [
    "Rocky=human()"
   ]
  },
  {
   "cell_type": "code",
   "execution_count": 106,
   "id": "36022ffc",
   "metadata": {},
   "outputs": [],
   "source": [
    "Rocky.set_age(23)"
   ]
  },
  {
   "cell_type": "code",
   "execution_count": 107,
   "id": "f735cee3",
   "metadata": {},
   "outputs": [
    {
     "data": {
      "text/plain": [
       "23"
      ]
     },
     "execution_count": 107,
     "metadata": {},
     "output_type": "execute_result"
    }
   ],
   "source": [
    "Rocky.get_age()"
   ]
  },
  {
   "cell_type": "code",
   "execution_count": 108,
   "id": "d6f7ccb2",
   "metadata": {},
   "outputs": [],
   "source": [
    "class Parent():  \n",
    "     \n",
    "    def __init__(self):  \n",
    "        self.value = \"Inside Parent\"  \n",
    "   \n",
    "    def show(self):  \n",
    "        print(self.value)"
   ]
  },
  {
   "cell_type": "code",
   "execution_count": 109,
   "id": "a95ecac1",
   "metadata": {},
   "outputs": [],
   "source": [
    "class Child(Parent):      \n",
    "   \n",
    "    def __init__(self):  \n",
    "        self.value = \"Inside Child\"       \n",
    "    \n",
    "    def show(self):  \n",
    "        print(self.value) "
   ]
  },
  {
   "cell_type": "code",
   "execution_count": 110,
   "id": "2ccae81d",
   "metadata": {},
   "outputs": [],
   "source": [
    "obj1 = Parent()  \n",
    "obj2 = Child()  "
   ]
  },
  {
   "cell_type": "code",
   "execution_count": 111,
   "id": "9904ffa5",
   "metadata": {},
   "outputs": [
    {
     "name": "stdout",
     "output_type": "stream",
     "text": [
      "Inside Parent\n"
     ]
    }
   ],
   "source": [
    "obj1.show()"
   ]
  },
  {
   "cell_type": "code",
   "execution_count": 119,
   "id": "e894b275",
   "metadata": {},
   "outputs": [
    {
     "name": "stdout",
     "output_type": "stream",
     "text": [
      "Inside Child\n"
     ]
    }
   ],
   "source": [
    "obj2.show()"
   ]
  },
  {
   "cell_type": "code",
   "execution_count": null,
   "id": "5c594c30",
   "metadata": {},
   "outputs": [],
   "source": []
  }
 ],
 "metadata": {
  "kernelspec": {
   "display_name": "Python 3 (ipykernel)",
   "language": "python",
   "name": "python3"
  },
  "language_info": {
   "codemirror_mode": {
    "name": "ipython",
    "version": 3
   },
   "file_extension": ".py",
   "mimetype": "text/x-python",
   "name": "python",
   "nbconvert_exporter": "python",
   "pygments_lexer": "ipython3",
   "version": "3.11.4"
  }
 },
 "nbformat": 4,
 "nbformat_minor": 5
}
