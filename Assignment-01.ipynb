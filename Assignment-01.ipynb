{
 "cells": [
  {
   "cell_type": "code",
   "execution_count": 1,
   "id": "0248554e-c0b8-4c00-bef9-249a4242fc30",
   "metadata": {},
   "outputs": [],
   "source": [
    "##Q1. Create one variable containing following type of data:"
   ]
  },
  {
   "cell_type": "code",
   "execution_count": 2,
   "id": "c600decd-29b4-43ce-9f60-64712f2e671e",
   "metadata": {},
   "outputs": [],
   "source": [
    "l=[\"Rocky\", [3,4,5,6,7,8,9], 56.78, (34,65,21)]"
   ]
  },
  {
   "cell_type": "code",
   "execution_count": 3,
   "id": "396d8b91-87f8-490c-a334-d317c666d7b8",
   "metadata": {},
   "outputs": [
    {
     "data": {
      "text/plain": [
       "['Rocky', [3, 4, 5, 6, 7, 8, 9], 56.78, (34, 65, 21)]"
      ]
     },
     "execution_count": 3,
     "metadata": {},
     "output_type": "execute_result"
    }
   ],
   "source": [
    "l"
   ]
  },
  {
   "cell_type": "code",
   "execution_count": 4,
   "id": "75ce783b-f3bc-4433-bb24-10224de739e4",
   "metadata": {},
   "outputs": [],
   "source": [
    "##Q2. Given are some following variables containing data:"
   ]
  },
  {
   "cell_type": "code",
   "execution_count": 5,
   "id": "1cc542c0-3dc5-4b19-828d-a8ee89ce8441",
   "metadata": {},
   "outputs": [],
   "source": [
    "##var1= string\n",
    "##var2= string\n",
    "##var3= list\n",
    "##var4= float"
   ]
  },
  {
   "cell_type": "code",
   "execution_count": 6,
   "id": "eed8ef90-cd86-48d1-9746-5ada668b4f72",
   "metadata": {},
   "outputs": [],
   "source": [
    "##Q3. Explain the use of the following operators using an example:\n",
    "\n",
    "## / -> used in divide operation\n",
    "## % -> use to get the remainder while dividing operation with whole number resultant\n",
    "## //-> used to do floor division operation\n",
    "## ** -> used in power operation"
   ]
  },
  {
   "cell_type": "code",
   "execution_count": 7,
   "id": "566c1e63-16a3-4a70-8ac5-2d02fb143208",
   "metadata": {},
   "outputs": [],
   "source": [
    "##Q4. Create a list of length 10 of your choice containing multiple types of data. Using for loop print the\n",
    "##element and its data type.\n",
    "\n",
    "l1= [12,45.6, \"Rocky\", [3,4,5], \"string\", \"Shaw\", (56,78,98), {34,21,13,25,56}, \"A\", 21]"
   ]
  },
  {
   "cell_type": "code",
   "execution_count": 8,
   "id": "ddcd7ffa-112e-4f86-94e5-0d39c17546fe",
   "metadata": {},
   "outputs": [
    {
     "data": {
      "text/plain": [
       "[12,\n",
       " 45.6,\n",
       " 'Rocky',\n",
       " [3, 4, 5],\n",
       " 'string',\n",
       " 'Shaw',\n",
       " (56, 78, 98),\n",
       " {13, 21, 25, 34, 56},\n",
       " 'A',\n",
       " 21]"
      ]
     },
     "execution_count": 8,
     "metadata": {},
     "output_type": "execute_result"
    }
   ],
   "source": [
    "l1"
   ]
  },
  {
   "cell_type": "code",
   "execution_count": 9,
   "id": "e26b8163-ad67-4c2b-8758-fdd584c8b0a8",
   "metadata": {},
   "outputs": [
    {
     "data": {
      "text/plain": [
       "10"
      ]
     },
     "execution_count": 9,
     "metadata": {},
     "output_type": "execute_result"
    }
   ],
   "source": [
    "len(l1)"
   ]
  },
  {
   "cell_type": "code",
   "execution_count": 11,
   "id": "5b0c9024-bd78-4c2e-84b4-ac6b19725042",
   "metadata": {},
   "outputs": [
    {
     "name": "stdout",
     "output_type": "stream",
     "text": [
      "12\n",
      "<class 'int'>\n",
      "45.6\n",
      "<class 'float'>\n",
      "Rocky\n",
      "<class 'str'>\n",
      "[3, 4, 5]\n",
      "<class 'list'>\n",
      "string\n",
      "<class 'str'>\n",
      "Shaw\n",
      "<class 'str'>\n",
      "(56, 78, 98)\n",
      "<class 'tuple'>\n",
      "{34, 21, 56, 25, 13}\n",
      "<class 'set'>\n",
      "A\n",
      "<class 'str'>\n",
      "21\n",
      "<class 'int'>\n"
     ]
    }
   ],
   "source": [
    "for i in l1:\n",
    "    print(i), print(type(i))\n",
    "    "
   ]
  },
  {
   "cell_type": "code",
   "execution_count": 12,
   "id": "bdbe7251-b30f-47c4-b07f-f83b8cd4670d",
   "metadata": {},
   "outputs": [
    {
     "name": "stdout",
     "output_type": "stream",
     "text": [
      "A is divisible by B 2 times\n"
     ]
    }
   ],
   "source": [
    "##Q5. Using a while loop, verify if the number A is purely divisible by number B and if so then how many\n",
    "##times it can be divisible.\n",
    "A = 100\n",
    "B = 5\n",
    "count = 0\n",
    "\n",
    "while A % B == 0:\n",
    "    A = A / B\n",
    "    count += 1\n",
    "\n",
    "print(\"A is divisible by B\", count, \"times\")"
   ]
  },
  {
   "cell_type": "code",
   "execution_count": 13,
   "id": "2dfc7d59-4c45-4a2f-8cf6-1cded8e08fff",
   "metadata": {},
   "outputs": [],
   "source": [
    "##Q6. Create a list containing 25 int type data. Using for loop and if-else condition print if the element is\n",
    "##divisible by 3 or not.\n",
    "\n",
    "l2= [33,34,67,69,96,74,56,76,89,12,31,54,67,87,97,68,35,65,123,568,986,432,654,234,912]"
   ]
  },
  {
   "cell_type": "code",
   "execution_count": 14,
   "id": "3bb335c6-b9e2-4155-b494-9197a9a2e214",
   "metadata": {},
   "outputs": [
    {
     "data": {
      "text/plain": [
       "25"
      ]
     },
     "execution_count": 14,
     "metadata": {},
     "output_type": "execute_result"
    }
   ],
   "source": [
    "len(l2)"
   ]
  },
  {
   "cell_type": "code",
   "execution_count": 20,
   "id": "dbf3672f-76ff-4085-9902-a3299bd2db66",
   "metadata": {},
   "outputs": [
    {
     "name": "stdout",
     "output_type": "stream",
     "text": [
      "33 is divisible by 3\n",
      "34 is not divisible by 3\n",
      "67 is not divisible by 3\n",
      "69 is divisible by 3\n",
      "96 is divisible by 3\n",
      "74 is not divisible by 3\n",
      "56 is not divisible by 3\n",
      "76 is not divisible by 3\n",
      "89 is not divisible by 3\n",
      "12 is divisible by 3\n",
      "31 is not divisible by 3\n",
      "54 is divisible by 3\n",
      "67 is not divisible by 3\n",
      "87 is divisible by 3\n",
      "97 is not divisible by 3\n",
      "68 is not divisible by 3\n",
      "35 is not divisible by 3\n",
      "65 is not divisible by 3\n",
      "123 is divisible by 3\n",
      "568 is not divisible by 3\n",
      "986 is not divisible by 3\n",
      "432 is divisible by 3\n",
      "654 is divisible by 3\n",
      "234 is divisible by 3\n",
      "912 is divisible by 3\n"
     ]
    }
   ],
   "source": [
    "for i in l2:\n",
    "    if i%3==0:\n",
    "        print(str(i) + \" is divisible by 3\")\n",
    "    else: print(str(i) + \" is not divisible by 3\")"
   ]
  },
  {
   "cell_type": "code",
   "execution_count": 21,
   "id": "52c6ba49-5951-4a6f-9ba8-81fd157ad742",
   "metadata": {},
   "outputs": [],
   "source": [
    "##Q7. What do you understand about mutable and immutable data types? Give examples for both showing\n",
    "##this property.\n",
    "\n",
    "## Mutable data types are those whose values can be modified once they are created.\n",
    "\n",
    "## Immutable data types are those whose values cannot be modified once they are created."
   ]
  },
  {
   "cell_type": "code",
   "execution_count": 22,
   "id": "71637320-8a85-4356-bd07-99fbaac34ce4",
   "metadata": {},
   "outputs": [],
   "source": [
    "list= [3,4,5]"
   ]
  },
  {
   "cell_type": "code",
   "execution_count": 23,
   "id": "e37cf1de-42b0-4285-aca9-75bd58d6a734",
   "metadata": {},
   "outputs": [
    {
     "data": {
      "text/plain": [
       "[3, 4, 5]"
      ]
     },
     "execution_count": 23,
     "metadata": {},
     "output_type": "execute_result"
    }
   ],
   "source": [
    "list"
   ]
  },
  {
   "cell_type": "code",
   "execution_count": 24,
   "id": "741081ae-a781-40b1-9de5-edadd50759ab",
   "metadata": {},
   "outputs": [],
   "source": [
    "list[0]=2"
   ]
  },
  {
   "cell_type": "code",
   "execution_count": 25,
   "id": "bc6887a3-8ea0-4035-b5f0-df9eae5d1a67",
   "metadata": {},
   "outputs": [
    {
     "data": {
      "text/plain": [
       "[2, 4, 5]"
      ]
     },
     "execution_count": 25,
     "metadata": {},
     "output_type": "execute_result"
    }
   ],
   "source": [
    "list"
   ]
  },
  {
   "cell_type": "code",
   "execution_count": 26,
   "id": "5d4db59f-44b2-47f3-9f17-fadfcf1e1d6e",
   "metadata": {},
   "outputs": [],
   "source": [
    "tuple= (3,4,5)"
   ]
  },
  {
   "cell_type": "code",
   "execution_count": 27,
   "id": "c34da501-9123-4665-8fc4-0013b4b68de2",
   "metadata": {},
   "outputs": [
    {
     "data": {
      "text/plain": [
       "(3, 4, 5)"
      ]
     },
     "execution_count": 27,
     "metadata": {},
     "output_type": "execute_result"
    }
   ],
   "source": [
    "tuple"
   ]
  },
  {
   "cell_type": "code",
   "execution_count": 29,
   "id": "bcdc29d9-2cf2-48ad-b23b-735a7048c6de",
   "metadata": {},
   "outputs": [
    {
     "ename": "TypeError",
     "evalue": "'tuple' object does not support item assignment",
     "output_type": "error",
     "traceback": [
      "\u001b[0;31m---------------------------------------------------------------------------\u001b[0m",
      "\u001b[0;31mTypeError\u001b[0m                                 Traceback (most recent call last)",
      "Cell \u001b[0;32mIn[29], line 1\u001b[0m\n\u001b[0;32m----> 1\u001b[0m \u001b[38;5;28;43mtuple\u001b[39;49m\u001b[43m[\u001b[49m\u001b[38;5;241;43m0\u001b[39;49m\u001b[43m]\u001b[49m\u001b[38;5;241m=\u001b[39m\u001b[38;5;241m2\u001b[39m\n",
      "\u001b[0;31mTypeError\u001b[0m: 'tuple' object does not support item assignment"
     ]
    }
   ],
   "source": [
    "tuple[0]=2"
   ]
  },
  {
   "cell_type": "code",
   "execution_count": null,
   "id": "b8a3b5fe-0313-4d7c-9cbb-f1e288d24905",
   "metadata": {},
   "outputs": [],
   "source": []
  }
 ],
 "metadata": {
  "kernelspec": {
   "display_name": "Python 3 (ipykernel)",
   "language": "python",
   "name": "python3"
  },
  "language_info": {
   "codemirror_mode": {
    "name": "ipython",
    "version": 3
   },
   "file_extension": ".py",
   "mimetype": "text/x-python",
   "name": "python",
   "nbconvert_exporter": "python",
   "pygments_lexer": "ipython3",
   "version": "3.11.4"
  }
 },
 "nbformat": 4,
 "nbformat_minor": 5
}
